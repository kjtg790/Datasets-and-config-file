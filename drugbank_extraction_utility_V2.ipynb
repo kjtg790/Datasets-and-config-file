{
 "cells": [
  {
   "cell_type": "markdown",
   "metadata": {},
   "source": [
    "<font color='red' size=5><b> Software Requirements: The below scripts are tested in Python version 3.7.0</b> </font><br>   \n",
    "<font color='red' size=5><b> Note: Reading drugbank.xml file will take more time</b> </font><br>   \n",
    "# <font color='blue'>Extraction of drug details from drugbank XML </font> <br>\n",
    "# <font color='blue'> Important Instructions </font>\n",
    "## <font color='blue'> Setup Working directory, copy files, execute scripts </font>\n",
    "<font color='blue'> <br>\n",
    "1) Download drugbank.xml from https://go.drugbank.com/releases/latestCopy<br>\n",
    "2) Create a new directory called drugbank under HOME/working directory directory<br>\n",
    "3) Copy the downloaded XML file in the drugbank folder<br>\n",
    "4) Make sure that the XML file is named as drug_bank.xml<br>\n",
    "5) Copy this ipython (ipynb) notebook into your HOME/working directory<br>\n",
    "6) Execute below scripts by sequence order </font> <br>\n"
   ]
  },
  {
   "cell_type": "code",
   "execution_count": 6,
   "metadata": {},
   "outputs": [],
   "source": [
    "#import required packages to read the XML file\n",
    "import pandas\n",
    "import json\n",
    "import os\n",
    "import collections\n",
    "import re\n",
    "import xml.etree.ElementTree as ET"
   ]
  },
  {
   "cell_type": "markdown",
   "metadata": {},
   "source": [
    "### Reading XML file downloaded from the drugbank.ca"
   ]
  },
  {
   "cell_type": "code",
   "execution_count": 7,
   "metadata": {},
   "outputs": [],
   "source": [
    "#load drugbank.xml\n",
    "tree = ET.parse(\"./drugbank/drug_bank.xml\")\n",
    "#get the root of the tree\n",
    "root = tree.getroot()"
   ]
  },
  {
   "cell_type": "markdown",
   "metadata": {},
   "source": [
    "### Preprocess the XML format to extract required columns and rows"
   ]
  },
  {
   "cell_type": "code",
   "execution_count": 12,
   "metadata": {},
   "outputs": [],
   "source": [
    "#Pre-process drug data and extract required information\n",
    "ns = '{http://www.drugbank.ca}'\n",
    "rows = list()\n",
    "\n",
    "for i, drug in enumerate(root):\n",
    "    row = collections.OrderedDict()\n",
    "    assert drug.tag == ns + 'drug'\n",
    "    row['type'] = drug.get('type')\n",
    "    row['drugbank_id'] = drug.findtext(ns + \"drugbank-id[@primary='true']\")\n",
    "    row['name'] = drug.findtext(ns + \"name\")\n",
    "    row['description'] = drug.findtext(ns + \"description\")\n",
    "    row['groups'] = [group.text for group in\n",
    "        drug.findall(\"{ns}groups/{ns}group\".format(ns = ns))]\n",
    "    row['categories'] = [x.findtext(ns + 'category') for x in\n",
    "        drug.findall(\"{ns}categories/{ns}category\".format(ns = ns))]  \n",
    "    aliases = {\n",
    "        elem.text for elem in \n",
    "        drug.findall(\"{ns}international-brands/{ns}international-brand\".format(ns = ns)) +\n",
    "        drug.findall(\"{ns}synonyms/{ns}synonym[@language='English']\".format(ns = ns)) +\n",
    "        drug.findall(\"{ns}international-brands/{ns}international-brand\".format(ns = ns)) +\n",
    "        drug.findall(\"{ns}products/{ns}product/{ns}name\".format(ns = ns))\n",
    "\n",
    "    }\n",
    "    aliases.add(row['name'])\n",
    "    row['aliases'] = sorted(aliases)\n",
    "    rows.append(row)\n",
    "drugbank_df = pandas.DataFrame.from_dict(rows) \n"
   ]
  },
  {
   "cell_type": "code",
   "execution_count": 13,
   "metadata": {},
   "outputs": [],
   "source": [
    "#Extract additional details fro the XML file\n",
    "protein_rows = list()\n",
    "for i, drug in enumerate(root):\n",
    "    drugbank_id = drug.findtext(ns + \"drugbank-id[@primary='true']\")\n",
    "    for category in ['target', 'enzyme', 'carrier', 'transporter']:\n",
    "        proteins = drug.findall('{ns}{cat}s/{ns}{cat}'.format(ns=ns, cat=category))\n",
    "        for protein in proteins:\n",
    "            row = {'drugbank_id': drugbank_id, 'category': category}\n",
    "            row['organism'] = protein.findtext('{}organism'.format(ns))\n",
    "            row['known_action'] = protein.findtext('{}known-action'.format(ns))\n",
    "            actions = protein.findall('{ns}actions/{ns}action'.format(ns=ns))\n",
    "            row['actions'] = '|'.join(action.text for action in actions)\n",
    "            uniprot_ids = [polypep.text for polypep in protein.findall(\n",
    "                \"{ns}polypeptide/{ns}external-identifiers/{ns}external-identifier[{ns}resource='UniProtKB']/{ns}identifier\".format(ns=ns))]            \n",
    "            if len(uniprot_ids) != 1:\n",
    "                continue\n",
    "            row['uniprot_id'] = uniprot_ids[0]\n",
    "            ref_text = protein.findtext(\"{ns}references[@format='textile']\".format(ns=ns))\n",
    "            protein_rows.append(row)\n",
    "protein_df = pandas.DataFrame.from_dict(protein_rows)"
   ]
  },
  {
   "cell_type": "code",
   "execution_count": 23,
   "metadata": {},
   "outputs": [
    {
     "data": {
      "text/html": [
       "<div>\n",
       "<style scoped>\n",
       "    .dataframe tbody tr th:only-of-type {\n",
       "        vertical-align: middle;\n",
       "    }\n",
       "\n",
       "    .dataframe tbody tr th {\n",
       "        vertical-align: top;\n",
       "    }\n",
       "\n",
       "    .dataframe thead th {\n",
       "        text-align: right;\n",
       "    }\n",
       "</style>\n",
       "<table border=\"1\" class=\"dataframe\">\n",
       "  <thead>\n",
       "    <tr style=\"text-align: right;\">\n",
       "      <th></th>\n",
       "      <th>type</th>\n",
       "      <th>drugbank_id</th>\n",
       "      <th>name</th>\n",
       "      <th>description</th>\n",
       "      <th>groups</th>\n",
       "      <th>categories</th>\n",
       "      <th>aliases</th>\n",
       "      <th>category</th>\n",
       "      <th>organism</th>\n",
       "      <th>known_action</th>\n",
       "      <th>actions</th>\n",
       "      <th>uniprot_id</th>\n",
       "    </tr>\n",
       "  </thead>\n",
       "  <tbody>\n",
       "    <tr>\n",
       "      <th>0</th>\n",
       "      <td>biotech</td>\n",
       "      <td>DB00001</td>\n",
       "      <td>lepirudin</td>\n",
       "      <td>Lepirudin is identical to natural hirudin exce...</td>\n",
       "      <td>[approved]</td>\n",
       "      <td>[Amino Acids, Peptides, and Proteins, Anticoag...</td>\n",
       "      <td>[Lepirudin, Refludan]</td>\n",
       "      <td>target</td>\n",
       "      <td>Humans</td>\n",
       "      <td>yes</td>\n",
       "      <td>inhibitor</td>\n",
       "      <td>P00734</td>\n",
       "    </tr>\n",
       "    <tr>\n",
       "      <th>1</th>\n",
       "      <td>biotech</td>\n",
       "      <td>DB00002</td>\n",
       "      <td>cetuximab</td>\n",
       "      <td>Cetuximab is an epidermal growth factor recept...</td>\n",
       "      <td>[approved]</td>\n",
       "      <td>[Amino Acids, Peptides, and Proteins, Antibodi...</td>\n",
       "      <td>[Cetuximab, Erbitux]</td>\n",
       "      <td>target</td>\n",
       "      <td>Humans</td>\n",
       "      <td>yes</td>\n",
       "      <td>antagonist</td>\n",
       "      <td>P00533</td>\n",
       "    </tr>\n",
       "    <tr>\n",
       "      <th>2</th>\n",
       "      <td>biotech</td>\n",
       "      <td>DB00002</td>\n",
       "      <td>cetuximab</td>\n",
       "      <td>Cetuximab is an epidermal growth factor recept...</td>\n",
       "      <td>[approved]</td>\n",
       "      <td>[Amino Acids, Peptides, and Proteins, Antibodi...</td>\n",
       "      <td>[Cetuximab, Erbitux]</td>\n",
       "      <td>target</td>\n",
       "      <td>Humans</td>\n",
       "      <td>unknown</td>\n",
       "      <td></td>\n",
       "      <td>O75015</td>\n",
       "    </tr>\n",
       "    <tr>\n",
       "      <th>3</th>\n",
       "      <td>biotech</td>\n",
       "      <td>DB00002</td>\n",
       "      <td>cetuximab</td>\n",
       "      <td>Cetuximab is an epidermal growth factor recept...</td>\n",
       "      <td>[approved]</td>\n",
       "      <td>[Amino Acids, Peptides, and Proteins, Antibodi...</td>\n",
       "      <td>[Cetuximab, Erbitux]</td>\n",
       "      <td>target</td>\n",
       "      <td>Humans</td>\n",
       "      <td>unknown</td>\n",
       "      <td></td>\n",
       "      <td>P02745</td>\n",
       "    </tr>\n",
       "    <tr>\n",
       "      <th>4</th>\n",
       "      <td>biotech</td>\n",
       "      <td>DB00002</td>\n",
       "      <td>cetuximab</td>\n",
       "      <td>Cetuximab is an epidermal growth factor recept...</td>\n",
       "      <td>[approved]</td>\n",
       "      <td>[Amino Acids, Peptides, and Proteins, Antibodi...</td>\n",
       "      <td>[Cetuximab, Erbitux]</td>\n",
       "      <td>target</td>\n",
       "      <td>Humans</td>\n",
       "      <td>unknown</td>\n",
       "      <td></td>\n",
       "      <td>P02746</td>\n",
       "    </tr>\n",
       "  </tbody>\n",
       "</table>\n",
       "</div>"
      ],
      "text/plain": [
       "      type drugbank_id       name  \\\n",
       "0  biotech     DB00001  lepirudin   \n",
       "1  biotech     DB00002  cetuximab   \n",
       "2  biotech     DB00002  cetuximab   \n",
       "3  biotech     DB00002  cetuximab   \n",
       "4  biotech     DB00002  cetuximab   \n",
       "\n",
       "                                         description      groups  \\\n",
       "0  Lepirudin is identical to natural hirudin exce...  [approved]   \n",
       "1  Cetuximab is an epidermal growth factor recept...  [approved]   \n",
       "2  Cetuximab is an epidermal growth factor recept...  [approved]   \n",
       "3  Cetuximab is an epidermal growth factor recept...  [approved]   \n",
       "4  Cetuximab is an epidermal growth factor recept...  [approved]   \n",
       "\n",
       "                                          categories                aliases  \\\n",
       "0  [Amino Acids, Peptides, and Proteins, Anticoag...  [Lepirudin, Refludan]   \n",
       "1  [Amino Acids, Peptides, and Proteins, Antibodi...   [Cetuximab, Erbitux]   \n",
       "2  [Amino Acids, Peptides, and Proteins, Antibodi...   [Cetuximab, Erbitux]   \n",
       "3  [Amino Acids, Peptides, and Proteins, Antibodi...   [Cetuximab, Erbitux]   \n",
       "4  [Amino Acids, Peptides, and Proteins, Antibodi...   [Cetuximab, Erbitux]   \n",
       "\n",
       "  category organism known_action     actions uniprot_id  \n",
       "0   target   Humans          yes   inhibitor     P00734  \n",
       "1   target   Humans          yes  antagonist     P00533  \n",
       "2   target   Humans      unknown                 O75015  \n",
       "3   target   Humans      unknown                 P02745  \n",
       "4   target   Humans      unknown                 P02746  "
      ]
     },
     "execution_count": 23,
     "metadata": {},
     "output_type": "execute_result"
    }
   ],
   "source": [
    "#Merge both drug dataframe and protein dataframe to create a final dataframe\n",
    "drugs_final_df = drugbank_df.merge(protein_df, on='drugbank_id')\n",
    "drugs_final_df['name'] = drugs_final_df['name'].str.lower() \n",
    "#Check final dataframe\n",
    "drugs_final_df.head()"
   ]
  },
  {
   "cell_type": "markdown",
   "metadata": {},
   "source": [
    "#Merge both drug dataframe and protein dataframe to create a final dataframe\n",
    "drugs_final_df = drugbank_df.merge(protein_df, on='drugbank_id')"
   ]
  },
  {
   "cell_type": "markdown",
   "metadata": {},
   "source": [
    "### Save data into a CSV file for later use"
   ]
  },
  {
   "cell_type": "code",
   "execution_count": 24,
   "metadata": {},
   "outputs": [],
   "source": [
    "#Generate CSV file from the newly created dataframe\n",
    "path = os.path.join('drugbank', 'drugbank_df.csv')\n",
    "drugs_final_df.to_csv(path, sep=',', index=False)"
   ]
  },
  {
   "cell_type": "markdown",
   "metadata": {},
   "source": [
    "### Check the saved data"
   ]
  },
  {
   "cell_type": "code",
   "execution_count": 25,
   "metadata": {},
   "outputs": [
    {
     "data": {
      "text/html": [
       "<div>\n",
       "<style scoped>\n",
       "    .dataframe tbody tr th:only-of-type {\n",
       "        vertical-align: middle;\n",
       "    }\n",
       "\n",
       "    .dataframe tbody tr th {\n",
       "        vertical-align: top;\n",
       "    }\n",
       "\n",
       "    .dataframe thead th {\n",
       "        text-align: right;\n",
       "    }\n",
       "</style>\n",
       "<table border=\"1\" class=\"dataframe\">\n",
       "  <thead>\n",
       "    <tr style=\"text-align: right;\">\n",
       "      <th></th>\n",
       "      <th>type</th>\n",
       "      <th>drugbank_id</th>\n",
       "      <th>name</th>\n",
       "      <th>description</th>\n",
       "      <th>groups</th>\n",
       "      <th>categories</th>\n",
       "      <th>aliases</th>\n",
       "      <th>category</th>\n",
       "      <th>organism</th>\n",
       "      <th>known_action</th>\n",
       "      <th>actions</th>\n",
       "      <th>uniprot_id</th>\n",
       "    </tr>\n",
       "  </thead>\n",
       "  <tbody>\n",
       "    <tr>\n",
       "      <th>0</th>\n",
       "      <td>biotech</td>\n",
       "      <td>DB00001</td>\n",
       "      <td>lepirudin</td>\n",
       "      <td>Lepirudin is identical to natural hirudin exce...</td>\n",
       "      <td>['approved']</td>\n",
       "      <td>['Amino Acids, Peptides, and Proteins', 'Antic...</td>\n",
       "      <td>['Lepirudin', 'Refludan']</td>\n",
       "      <td>target</td>\n",
       "      <td>Humans</td>\n",
       "      <td>yes</td>\n",
       "      <td>inhibitor</td>\n",
       "      <td>P00734</td>\n",
       "    </tr>\n",
       "    <tr>\n",
       "      <th>1</th>\n",
       "      <td>biotech</td>\n",
       "      <td>DB00002</td>\n",
       "      <td>cetuximab</td>\n",
       "      <td>Cetuximab is an epidermal growth factor recept...</td>\n",
       "      <td>['approved']</td>\n",
       "      <td>['Amino Acids, Peptides, and Proteins', 'Antib...</td>\n",
       "      <td>['Cetuximab', 'Erbitux']</td>\n",
       "      <td>target</td>\n",
       "      <td>Humans</td>\n",
       "      <td>yes</td>\n",
       "      <td>antagonist</td>\n",
       "      <td>P00533</td>\n",
       "    </tr>\n",
       "    <tr>\n",
       "      <th>2</th>\n",
       "      <td>biotech</td>\n",
       "      <td>DB00002</td>\n",
       "      <td>cetuximab</td>\n",
       "      <td>Cetuximab is an epidermal growth factor recept...</td>\n",
       "      <td>['approved']</td>\n",
       "      <td>['Amino Acids, Peptides, and Proteins', 'Antib...</td>\n",
       "      <td>['Cetuximab', 'Erbitux']</td>\n",
       "      <td>target</td>\n",
       "      <td>Humans</td>\n",
       "      <td>unknown</td>\n",
       "      <td>NaN</td>\n",
       "      <td>O75015</td>\n",
       "    </tr>\n",
       "    <tr>\n",
       "      <th>3</th>\n",
       "      <td>biotech</td>\n",
       "      <td>DB00002</td>\n",
       "      <td>cetuximab</td>\n",
       "      <td>Cetuximab is an epidermal growth factor recept...</td>\n",
       "      <td>['approved']</td>\n",
       "      <td>['Amino Acids, Peptides, and Proteins', 'Antib...</td>\n",
       "      <td>['Cetuximab', 'Erbitux']</td>\n",
       "      <td>target</td>\n",
       "      <td>Humans</td>\n",
       "      <td>unknown</td>\n",
       "      <td>NaN</td>\n",
       "      <td>P02745</td>\n",
       "    </tr>\n",
       "    <tr>\n",
       "      <th>4</th>\n",
       "      <td>biotech</td>\n",
       "      <td>DB00002</td>\n",
       "      <td>cetuximab</td>\n",
       "      <td>Cetuximab is an epidermal growth factor recept...</td>\n",
       "      <td>['approved']</td>\n",
       "      <td>['Amino Acids, Peptides, and Proteins', 'Antib...</td>\n",
       "      <td>['Cetuximab', 'Erbitux']</td>\n",
       "      <td>target</td>\n",
       "      <td>Humans</td>\n",
       "      <td>unknown</td>\n",
       "      <td>NaN</td>\n",
       "      <td>P02746</td>\n",
       "    </tr>\n",
       "  </tbody>\n",
       "</table>\n",
       "</div>"
      ],
      "text/plain": [
       "      type drugbank_id       name  \\\n",
       "0  biotech     DB00001  lepirudin   \n",
       "1  biotech     DB00002  cetuximab   \n",
       "2  biotech     DB00002  cetuximab   \n",
       "3  biotech     DB00002  cetuximab   \n",
       "4  biotech     DB00002  cetuximab   \n",
       "\n",
       "                                         description        groups  \\\n",
       "0  Lepirudin is identical to natural hirudin exce...  ['approved']   \n",
       "1  Cetuximab is an epidermal growth factor recept...  ['approved']   \n",
       "2  Cetuximab is an epidermal growth factor recept...  ['approved']   \n",
       "3  Cetuximab is an epidermal growth factor recept...  ['approved']   \n",
       "4  Cetuximab is an epidermal growth factor recept...  ['approved']   \n",
       "\n",
       "                                          categories  \\\n",
       "0  ['Amino Acids, Peptides, and Proteins', 'Antic...   \n",
       "1  ['Amino Acids, Peptides, and Proteins', 'Antib...   \n",
       "2  ['Amino Acids, Peptides, and Proteins', 'Antib...   \n",
       "3  ['Amino Acids, Peptides, and Proteins', 'Antib...   \n",
       "4  ['Amino Acids, Peptides, and Proteins', 'Antib...   \n",
       "\n",
       "                     aliases category organism known_action     actions  \\\n",
       "0  ['Lepirudin', 'Refludan']   target   Humans          yes   inhibitor   \n",
       "1   ['Cetuximab', 'Erbitux']   target   Humans          yes  antagonist   \n",
       "2   ['Cetuximab', 'Erbitux']   target   Humans      unknown         NaN   \n",
       "3   ['Cetuximab', 'Erbitux']   target   Humans      unknown         NaN   \n",
       "4   ['Cetuximab', 'Erbitux']   target   Humans      unknown         NaN   \n",
       "\n",
       "  uniprot_id  \n",
       "0     P00734  \n",
       "1     P00533  \n",
       "2     O75015  \n",
       "3     P02745  \n",
       "4     P02746  "
      ]
     },
     "execution_count": 25,
     "metadata": {},
     "output_type": "execute_result"
    }
   ],
   "source": [
    "#Import the data from the csv file to a pandas dataframe\n",
    "df_drugs = pd.read_csv(path)\n",
    "df_drugs.head()"
   ]
  },
  {
   "cell_type": "code",
   "execution_count": 18,
   "metadata": {},
   "outputs": [
    {
     "data": {
      "text/plain": [
       "(26965, 12)"
      ]
     },
     "execution_count": 18,
     "metadata": {},
     "output_type": "execute_result"
    }
   ],
   "source": [
    "#Check the rows and columns of the dataframe\n",
    "df_drugs.shape"
   ]
  },
  {
   "cell_type": "code",
   "execution_count": 19,
   "metadata": {},
   "outputs": [
    {
     "name": "stdout",
     "output_type": "stream",
     "text": [
      "<class 'pandas.core.frame.DataFrame'>\n",
      "RangeIndex: 26965 entries, 0 to 26964\n",
      "Data columns (total 12 columns):\n",
      " #   Column        Non-Null Count  Dtype \n",
      "---  ------        --------------  ----- \n",
      " 0   type          26965 non-null  object\n",
      " 1   drugbank_id   26965 non-null  object\n",
      " 2   name          26965 non-null  object\n",
      " 3   description   19997 non-null  object\n",
      " 4   groups        26965 non-null  object\n",
      " 5   categories    26965 non-null  object\n",
      " 6   aliases       26965 non-null  object\n",
      " 7   category      26965 non-null  object\n",
      " 8   organism      26814 non-null  object\n",
      " 9   known_action  26965 non-null  object\n",
      " 10  actions       15637 non-null  object\n",
      " 11  uniprot_id    26965 non-null  object\n",
      "dtypes: object(12)\n",
      "memory usage: 2.5+ MB\n"
     ]
    }
   ],
   "source": [
    "#check information of the dataframe\n",
    "df_drugs.info()"
   ]
  },
  {
   "cell_type": "code",
   "execution_count": 20,
   "metadata": {},
   "outputs": [
    {
     "data": {
      "text/plain": [
       "type             0.00\n",
       "drugbank_id      0.00\n",
       "name             0.00\n",
       "groups           0.00\n",
       "categories       0.00\n",
       "aliases          0.00\n",
       "category         0.00\n",
       "known_action     0.00\n",
       "uniprot_id       0.00\n",
       "organism         0.56\n",
       "description     25.84\n",
       "actions         42.01\n",
       "dtype: float64"
      ]
     },
     "execution_count": 20,
     "metadata": {},
     "output_type": "execute_result"
    }
   ],
   "source": [
    "# Inspecting the percentages of Null values of the dataframe\n",
    "null_data = round(100*(df_drugs.isnull().sum()/len(df_drugs.index)), 2)\n",
    "null_data.sort_values()"
   ]
  },
  {
   "cell_type": "code",
   "execution_count": 21,
   "metadata": {},
   "outputs": [
    {
     "name": "stdout",
     "output_type": "stream",
     "text": [
      "['Insulin human' 'Insulin lispro' 'Insulin glargine' 'Oseltamivir'\n",
      " 'Pantoprazole' 'Eletriptan' 'Lovastatin' 'Butalbital' 'Methysergide'\n",
      " 'Argatroban' 'Clemastine' 'Venlafaxine' 'Acetaminophen' 'Indomethacin'\n",
      " 'Dexbrompheniramine' 'Ketorolac' 'Hexylcaine' 'Raloxifene' 'Bentiromide'\n",
      " 'Nicardipine' 'Docosanol' 'Simvastatin' 'Dyclonine' 'Acamprosate'\n",
      " 'Sumatriptan' 'Esomeprazole' 'Clopidogrel' 'Tirofiban' 'Perindopril'\n",
      " 'Tripelennamine' 'Candesartan cilexetil' 'Ribavirin' 'Almotriptan'\n",
      " 'Acetylsalicylic acid' 'Naratriptan' 'Rizatriptan' 'Methylprednisolone'\n",
      " 'Alosetron' 'Frovatriptan' 'Isosorbide mononitrate' 'Irbesartan'\n",
      " 'Mequitazine' 'Perhexiline' 'Atorvastatin' 'Rosuvastatin' 'Arbutamine'\n",
      " 'Chlorpheniramine' 'Clomipramine' 'Bepridil' 'Darunavir' 'Insulin aspart'\n",
      " 'Insulin detemir' 'Insulin glulisine' 'Lithium cation' 'Phenindamine'\n",
      " 'D-Treitol' 'Erythritol' 'Huperzine A' 'Egaptivon pegol'\n",
      " 'Fenoxaprop-ethyl' 'Dexlansoprazole' 'SR-123781A' 'Succinobucol'\n",
      " 'OPC-28326' 'Golotimod' 'Technetium Tc-99m ciprofloxacin' 'SR 140333'\n",
      " 'KAI-1455' 'Pentaerythritol tetranitrate' 'Prasugrel' 'Regadenoson'\n",
      " 'Cangrelor' 'Otamixaban' 'Isometheptene' 'Aceclofenac' 'Pitavastatin'\n",
      " 'Tofacitinib' 'Sofosbuvir' 'Fendiline' 'Ledipasvir'\n",
      " 'Eslicarbazepine acetate' 'Zucapsaicin' 'Technetium Tc-99m sestamibi'\n",
      " 'Nicorandil' 'Trapidil' 'Ombitasvir' 'Paritaprevir' 'Ammonia N-13'\n",
      " 'Rubidium Rb-82' 'Acrivastine' 'Insulin degludec' 'Capsicum oleoresin'\n",
      " 'Phenyltoloxamine' 'Peppermint oil' 'Menthyl salicylate' 'Thonzylamine'\n",
      " 'Elbasvir' 'Amifampridine' 'Galidesivir' 'Tropisetron' 'Lasmiditan'\n",
      " 'Isoflavone' 'Rimegepant' 'Amylmetacresol' 'Black cohosh'\n",
      " 'Choline salicylate' 'Eptinezumab' 'Fremanezumab' 'Galcanezumab'\n",
      " '8-chlorotheophylline' 'Remdesivir' 'Human interferon beta' 'Ubrogepant'\n",
      " 'GS-441524']\n"
     ]
    }
   ],
   "source": [
    "#Check for symptom based filter to validate the drugbank dataframe content\n",
    "df_drugs_for_symptoms = df_drugs[df_drugs['description'].str.contains(\"fever\") | df_drugs['description'].str.contains('dry cough') | df_drugs['description'].str.contains('tiredness') | \n",
    "         df_drugs['description'].str.contains('aches and pains') | df_drugs['description'].str.contains('sore throat') \n",
    "         | df_drugs['description'].str.contains('diarrhoea') | df_drugs['description'].str.contains('headache') | df_drugs['description'].str.contains('loss of taste or smell')\n",
    "        | df_drugs['description'].str.contains('anti viral') | df_drugs['description'].str.contains('corona')] \n",
    "print(df_drugs_for_symptoms['name'].unique())"
   ]
  },
  {
   "cell_type": "code",
   "execution_count": 22,
   "metadata": {},
   "outputs": [
    {
     "data": {
      "text/plain": [
       "array(['Bevacizumab', 'Azithromycin', 'Chloroquine', 'Methylprednisolone',\n",
       "       'Dexamethasone', 'Darunavir', 'Lopinavir', 'Hydroxychloroquine',\n",
       "       'Leronlimab', 'Tocilizumab', 'Fingolimod', 'Elbasvir',\n",
       "       'Galidesivir', 'Favipiravir', 'Metenkefalin', 'Umifenovir',\n",
       "       'Camostat', 'Dexamethasone acetate', 'Remdesivir',\n",
       "       'Human interferon beta', 'TMC-310911',\n",
       "       'N-(2-Aminoethyl)-1-aziridineethanamine', 'GS-441524',\n",
       "       'Vazegepant'], dtype=object)"
      ]
     },
     "execution_count": 22,
     "metadata": {},
     "output_type": "execute_result"
    }
   ],
   "source": [
    "#Check for COVID-19 based filter to validate the drugbank dataframe content\n",
    "df_drugs_for_COVID = df_drugs[df_drugs['description'].str.contains(\"coronavirus\") | df_drugs['description'].str.contains(\"covid-19\") | df_drugs['description'].str.contains(\"SARS\") | df_drugs['description'].str.contains(\"nCoV\")| df_drugs['description'].str.contains(\"SARS-CoV-2\") | df_drugs['description'].str.contains(\"COVID-19\")]\n",
    "df_drugs_for_COVID['name'].unique()"
   ]
  },
  {
   "cell_type": "markdown",
   "metadata": {},
   "source": [
    "### There are already some of the drugs are approved or under clinical investigations for COVID-19. This helps in our investigation later"
   ]
  },
  {
   "cell_type": "markdown",
   "metadata": {},
   "source": [
    "## END of drugbank data extraction"
   ]
  },
  {
   "cell_type": "code",
   "execution_count": null,
   "metadata": {},
   "outputs": [],
   "source": []
  }
 ],
 "metadata": {
  "anaconda-cloud": {},
  "kernelspec": {
   "display_name": "Python 3",
   "language": "python",
   "name": "python3"
  },
  "language_info": {
   "codemirror_mode": {
    "name": "ipython",
    "version": 3
   },
   "file_extension": ".py",
   "mimetype": "text/x-python",
   "name": "python",
   "nbconvert_exporter": "python",
   "pygments_lexer": "ipython3",
   "version": "3.7.0"
  }
 },
 "nbformat": 4,
 "nbformat_minor": 1
}
